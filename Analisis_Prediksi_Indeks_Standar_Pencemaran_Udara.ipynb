{
  "nbformat": 4,
  "nbformat_minor": 0,
  "metadata": {
    "colab": {
      "provenance": [],
      "authorship_tag": "ABX9TyMo/xyLeuz7c0ku5YGfv8SE",
      "include_colab_link": true
    },
    "kernelspec": {
      "name": "python3",
      "display_name": "Python 3"
    },
    "language_info": {
      "name": "python"
    }
  },
  "cells": [
    {
      "cell_type": "markdown",
      "metadata": {
        "id": "view-in-github",
        "colab_type": "text"
      },
      "source": [
        "<a href=\"https://colab.research.google.com/github/NoraNekoIT/Analisis_Prediksi_Indeks_Standar_Pencemaran_Udara.ipynb/blob/main/Analisis_Prediksi_Indeks_Standar_Pencemaran_Udara.ipynb\" target=\"_parent\"><img src=\"https://colab.research.google.com/assets/colab-badge.svg\" alt=\"Open In Colab\"/></a>"
      ]
    },
    {
      "cell_type": "markdown",
      "source": [
        "**Analisis Prediksi Indeks Pencemaran Udara**\n",
        "\n",
        "Nama : **ANTONIUS BUN WIJAYA**"
      ],
      "metadata": {
        "id": "fRUuXCH2HDNV"
      }
    },
    {
      "cell_type": "code",
      "execution_count": null,
      "metadata": {
        "id": "Znahd0xfG77y"
      },
      "outputs": [],
      "source": []
    }
  ]
}